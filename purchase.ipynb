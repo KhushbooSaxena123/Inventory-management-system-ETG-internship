{
  "nbformat": 4,
  "nbformat_minor": 0,
  "metadata": {
    "colab": {
      "name": "purchase.ipynb",
      "provenance": []
    },
    "kernelspec": {
      "name": "python3",
      "display_name": "Python 3"
    },
    "language_info": {
      "name": "python"
    }
  },
  "cells": [
    {
      "cell_type": "code",
      "metadata": {
        "id": "b7GzNdg9834Y"
      },
      "source": [
        "import json\n",
        "\n",
        "# Opening files.\n",
        "with open(\"record.json\", 'r') as files:\n",
        "  record = json.load(files)\n",
        "\n",
        "with open(\"sales.json\", \"r\") as sale:\n",
        "  sales = json.load(sale)"
      ],
      "execution_count": 1,
      "outputs": []
    },
    {
      "cell_type": "markdown",
      "metadata": {
        "id": "kxSHuw3-_2M4"
      },
      "source": [
        "## **Sales and Purchase** "
      ]
    },
    {
      "cell_type": "code",
      "metadata": {
        "id": "H2miUWHm9uXh",
        "colab": {
          "base_uri": "https://localhost:8080/"
        },
        "outputId": "c11a3f32-5f70-44b8-ed2c-e5432cba339e"
      },
      "source": [
        "# Importing module for date and time\n",
        "\n",
        "from datetime import datetime \n",
        "\n",
        "# User input number of items, user wants to purchase\n",
        "ui_items = int(input(\"number of items: \"))\n",
        "\n",
        "# Initializing Amount \n",
        "Amount = 0\n",
        "\n",
        "# initializing dic of items\n",
        "items = {}\n",
        "\n",
        "for i in range(ui_items):\n",
        "  ui_id = input(\"enter the product id: \")\n",
        "\n",
        "  # checking if user input product is in the inventory or not\n",
        "  if ui_id in list(record.keys()):\n",
        "    \n",
        "    # then asking for quantity user wants\n",
        "    ui_qn = int(input(\"enter the quantity of product: \"))\n",
        "\n",
        "    # Checking if that perticular product is available or not\n",
        "    if record[ui_id]['quantity'] == 0:\n",
        "      print(\"Not Available\") \n",
        "\n",
        "    #  If user entered quantity is more than the quantity present in inventory then asking for user, if user wants to purchase less quantity that is available \n",
        "    elif ui_qn > record[ui_id]['quantity']:\n",
        "      print(f\"{ui_qn} products is not available\")\n",
        "      print(\"available quantity of product is \", record[ui_id]['quantity'])\n",
        "\n",
        "      # Asking question in yes or no.\n",
        "      print(\"Do you want\", record[ui_id]['quantity'],\"products? (yes/no)\" )\n",
        "      y = input()\n",
        "\n",
        "      if 'yes' == y.lower():\n",
        "        items[ui_id] = ui_qn\n",
        "        discount = record[ui_id]['discount%']\n",
        "        amount = record[ui_id]['price in Reupees'] * ui_qn - record[ui_id]['price in Reupees'] * ui_qn *discount / 100\n",
        "        # updating the sales    \n",
        "        sales[len(sales) + 1] = {'prod_ id': ui_id, 'name': record[ui_id]['name'], 'qauntity' : ui_qn, 'amount in Rupees': amount, \n",
        "                                 'date and time' : datetime.now().strftime(\"%d/%m/%Y %H:%M:%S\")} \n",
        "        record[ui_id]['quantity'] -= ui_qn  \n",
        "\n",
        "      elif 'no' == y.lower(): \n",
        "\n",
        "        # If user does not want to purchase less then printig a dialogue.\n",
        "        print(\"Sorry for inconvinience :-(\")  \n",
        "\n",
        "    else:\n",
        "      # Or else quantity is available for user entered product \n",
        "      items[ui_id] = ui_qn\n",
        "      discount = record[ui_id]['discount%']\n",
        "      amount = record[ui_id]['price in Reupees'] * ui_qn - record[ui_id]['price in Reupees'] * ui_qn *discount / 100\n",
        "\n",
        "      # Updating the sales\n",
        "      sales[len(sales) + 1] = {'prod_ id': ui_id, 'name': record[ui_id]['name'], 'qauntity' : ui_qn, 'amount in Rupees': amount,\n",
        "                               \"date and time \": datetime.now().strftime(\"%d/%m/%Y %H:%M:%S\")}\n",
        "      record[ui_id]['quantity'] -= ui_qn                        \n",
        "    Amount += amount\n",
        "  else:\n",
        "    print(\"Not Available.\")    \n",
        "  \n"
      ],
      "execution_count": 2,
      "outputs": [
        {
          "name": "stdout",
          "output_type": "stream",
          "text": [
            "number of items: 15\n",
            "enter the product id: 1014\n",
            "enter the quantity of product: 2\n",
            "enter the product id: 1016\n",
            "enter the quantity of product: 3\n",
            "enter the product id: 1012\n",
            "enter the quantity of product: 4\n",
            "enter the product id: 1020\n",
            "enter the quantity of product: 5\n",
            "enter the product id: 1036\n",
            "enter the quantity of product: 8\n",
            "enter the product id: 1029\n",
            "enter the quantity of product: 8\n",
            "enter the product id: 1027\n",
            "enter the quantity of product: 10\n",
            "enter the product id: 1045\n",
            "enter the quantity of product: 3\n",
            "enter the product id: 1028\n",
            "enter the quantity of product: 3\n",
            "enter the product id: 1019\n",
            "enter the quantity of product: 2\n",
            "enter the product id: 1026\n",
            "enter the quantity of product: 3\n",
            "enter the product id: 1017\n",
            "enter the quantity of product: 17\n",
            "enter the product id: 1023\n",
            "enter the quantity of product: 2\n",
            "enter the product id: 1024\n",
            "Not Available.\n",
            "enter the product id: 1025\n",
            "enter the quantity of product: 2\n"
          ]
        }
      ]
    },
    {
      "cell_type": "markdown",
      "metadata": {
        "id": "ZzkUmFs2EcAu"
      },
      "source": [
        "### **Invoice**"
      ]
    },
    {
      "cell_type": "code",
      "metadata": {
        "id": "Eydr2lXY94Dr",
        "colab": {
          "base_uri": "https://localhost:8080/"
        },
        "outputId": "9f8ef3bc-d944-4075-fea5-bda4fd05fee2"
      },
      "source": [
        "from termcolor import colored\n",
        "\n",
        "\n",
        "print(\"------------- Bill------------------\")\n",
        "print(\"Company Name : ABCD\")\n",
        "print(\"Contact details\")\n",
        "print(\"   Email Id: XXXXX@gmail.com\")\n",
        "print(\"   Phone Number:  +91 XXXXXXXXX\")\n",
        "\n",
        "# Just printing underscore 40 times to create a line\n",
        "print(\"_\" * 40)\n",
        "\n",
        "# Printing present date and time \n",
        "print(colored(f\"date and time: {datetime.now()}\", attrs = ['bold']))\n",
        "\n",
        "\n",
        "print(\"*\" * 40)\n",
        "\n",
        "for key in list(items.keys()):\n",
        "\n",
        "  # printing all deatails of product in bill\n",
        "  print(\"Product name: \", record[key]['name'])\n",
        "  print(\"Quantity: \", items[key])\n",
        "  print(\"Price in rupees: \", record[key]['price in Reupees'],\"Rupees\")\n",
        "  print(\"Discount: \", record[key]['discount%'],\"% per product\")\n",
        "\n",
        "  print(\"-\" * 40)\n",
        "print(\"-\" * 40)\n",
        "\n",
        "print(colored(f\"Net amount: {round(Amount, 2)} Rupees\", attrs = ['bold']))\n"
      ],
      "execution_count": 3,
      "outputs": [
        {
          "output_type": "stream",
          "name": "stdout",
          "text": [
            "------------- Bill------------------\n",
            "Company Name : ABCD\n",
            "Contact details\n",
            "   Email Id: XXXXX@gmail.com\n",
            "   Phone Number:  +91 XXXXXXXXX\n",
            "________________________________________\n",
            "\u001b[1mdate and time: 2021-09-06 07:42:00.240125\u001b[0m\n",
            "****************************************\n",
            "Product name:  Dairy Milk\n",
            "Quantity:  2\n",
            "Price in rupees:  20 Rupees\n",
            "Discount:  0 % per product\n",
            "----------------------------------------\n",
            "Product name:  5Star\n",
            "Quantity:  3\n",
            "Price in rupees:  10 Rupees\n",
            "Discount:  0 % per product\n",
            "----------------------------------------\n",
            "Product name:  Kitkat\n",
            "Quantity:  4\n",
            "Price in rupees:  20 Rupees\n",
            "Discount:  0 % per product\n",
            "----------------------------------------\n",
            "Product name:  Kitkat\n",
            "Quantity:  5\n",
            "Price in rupees:  10 Rupees\n",
            "Discount:  0 % per product\n",
            "----------------------------------------\n",
            "Product name:  Limca\n",
            "Quantity:  8\n",
            "Price in rupees:  76 Rupees\n",
            "Discount:  0 % per product\n",
            "----------------------------------------\n",
            "Product name:  Pepsi\n",
            "Quantity:  8\n",
            "Price in rupees:  30 Rupees\n",
            "Discount:  1 % per product\n",
            "----------------------------------------\n",
            "Product name:  Knor soupy noodle\n",
            "Quantity:  10\n",
            "Price in rupees:  10 Rupees\n",
            "Discount:  0 % per product\n",
            "----------------------------------------\n",
            "Product name:  Good Day\n",
            "Quantity:  3\n",
            "Price in rupees:  10 Rupees\n",
            "Discount:  0 % per product\n",
            "----------------------------------------\n",
            "Product name:  Maggie Atta noodle\n",
            "Quantity:  3\n",
            "Price in rupees:  20 Rupees\n",
            "Discount:  2 % per product\n",
            "----------------------------------------\n",
            "Product name:  Munch\n",
            "Quantity:  2\n",
            "Price in rupees:  5 Rupees\n",
            "Discount:  0 % per product\n",
            "----------------------------------------\n",
            "Product name:  Yippee\n",
            "Quantity:  3\n",
            "Price in rupees:  10 Rupees\n",
            "Discount:  0 % per product\n",
            "----------------------------------------\n",
            "Product name:  5Star\n",
            "Quantity:  17\n",
            "Price in rupees:  5 Rupees\n",
            "Discount:  0 % per product\n",
            "----------------------------------------\n",
            "Product name:  Maggie\n",
            "Quantity:  2\n",
            "Price in rupees:  12 Rupees\n",
            "Discount:  0 % per product\n",
            "----------------------------------------\n",
            "Product name:  Maggie Family pack\n",
            "Quantity:  2\n",
            "Price in rupees:  60 Rupees\n",
            "Discount:  0 % per product\n",
            "----------------------------------------\n",
            "----------------------------------------\n",
            "\u001b[1mNet amount: 1503.4 Rupees\u001b[0m\n"
          ]
        }
      ]
    },
    {
      "cell_type": "code",
      "metadata": {
        "id": "mPFrrDRy-LLN"
      },
      "source": [
        "# Updating both the json files\n",
        "\n",
        "js = json.dumps(record)\n",
        "with open(\"record.json\", 'w') as fd:\n",
        "  fd.write(js)\n",
        "\n",
        "\n",
        "sale = json.dumps(sales)\n",
        "with open(\"sales.json\", 'w') as f:\n",
        "  f.write(sale)\n"
      ],
      "execution_count": 4,
      "outputs": []
    }
  ]
}