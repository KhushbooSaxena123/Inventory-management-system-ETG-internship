{
  "nbformat": 4,
  "nbformat_minor": 0,
  "metadata": {
    "colab": {
      "name": "add_items.ipynb",
      "provenance": []
    },
    "kernelspec": {
      "name": "python3",
      "display_name": "Python 3"
    },
    "language_info": {
      "name": "python"
    }
  },
  "cells": [
    {
      "cell_type": "markdown",
      "metadata": {
        "id": "tkEfdM961fvU"
      },
      "source": [
        "## **Adding new items into inventory**"
      ]
    },
    {
      "cell_type": "code",
      "metadata": {
        "id": "hVTVb26w1zHz"
      },
      "source": [
        "# open a record.json file where inventory is saved\n",
        "\n",
        "import json\n",
        "with open(\"record.json\", 'r') as files:\n",
        "  record = json.load(files)"
      ],
      "execution_count": 1,
      "outputs": []
    },
    {
      "cell_type": "code",
      "metadata": {
        "id": "OVn8mOmv2tYT",
        "colab": {
          "base_uri": "https://localhost:8080/"
        },
        "outputId": "05d07f11-5bc4-4c85-cc70-71e6a4782973"
      },
      "source": [
        "\n",
        "num_of_items = int(input(\"Enter number of items:\"))\n",
        "\n",
        "for i in range(num_of_items):\n",
        "  prod_id = input(\"Enter the product id: \")\n",
        "  \n",
        "  # checking if user's enterd key already exist in invantory i.e record.json \n",
        "  if prod_id in list(record.keys()):\n",
        "    qn = int(input(\"Enter the quantity of product: \"))\n",
        "\n",
        "    # Updating quantity of already existing product\n",
        "    record[prod_id]['quantity'] += qn\n",
        "\n",
        "  else:\n",
        "    # if Entered key is not in inventory then asking every detail of product\n",
        "    prod = input(\"Enter the product: \")\n",
        "    prod_name = input(\"Enter the product name: \")\n",
        "    pr = int(input(\"Enter the price of product in reupees: \"))\n",
        "    qn = int(input(\"Enter the quantity of product: \"))\n",
        "    comp = input(\"Enter the company: \")\n",
        "    disc = int(input(\"Enter the dicount: \"))\n",
        "\n",
        "    # Adding new product to record \n",
        "    record[prod_id] = {'product': prod,'name' : prod_name, 'price in Reupees' : pr, 'quantity' : qn, 'company' : comp, 'discount%' : disc} \n"
      ],
      "execution_count": 2,
      "outputs": [
        {
          "name": "stdout",
          "output_type": "stream",
          "text": [
            "Enter number of items:1\n",
            "Enter the product id: 1011\n",
            "Enter the quantity of product: 2\n"
          ]
        }
      ]
    },
    {
      "cell_type": "code",
      "metadata": {
        "id": "hyFMv0HW4ixq"
      },
      "source": [
        "# Updating record.json file that is inventory\n",
        "\n",
        "js = json.dumps(record)\n",
        "with open(\"record.json\", 'w') as file:\n",
        "  file.write(js)\n",
        "  "
      ],
      "execution_count": 3,
      "outputs": []
    }
  ]
}